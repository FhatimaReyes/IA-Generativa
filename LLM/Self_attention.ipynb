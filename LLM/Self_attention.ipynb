{
  "nbformat": 4,
  "nbformat_minor": 0,
  "metadata": {
    "colab": {
      "provenance": []
    },
    "kernelspec": {
      "name": "python3",
      "display_name": "Python 3"
    },
    "language_info": {
      "name": "python"
    }
  },
  "cells": [
    {
      "cell_type": "markdown",
      "source": [
        "**La \"atención\" en el Transformador**\n",
        "\n",
        "Q: ¿Qué estoy buscando?\n",
        "\n",
        "K: ¿Qué puedo ofrecer?\n",
        "\n",
        "𝖵: ¿Qué estoy ofreciendo realmente?\n",
        "\n",
        "Obtenido de: https://youtu.be/QCJQG4DuHT0?si=CAbjxpjhHXVPWmVH\n"
      ],
      "metadata": {
        "id": "Pgr1p0nVsWyJ"
      }
    },
    {
      "cell_type": "code",
      "execution_count": 1,
      "metadata": {
        "id": "-2aWuFpkqKIe"
      },
      "outputs": [],
      "source": [
        "import numpy as np\n",
        "import math"
      ]
    },
    {
      "cell_type": "code",
      "source": [
        "L, d_k, d_v = 4, 8, 8\n",
        "q = np.random.rand(L, d_k)\n",
        "k = np.random.rand(L, d_k)\n",
        "v = np.random.rand(L, d_v)"
      ],
      "metadata": {
        "id": "60s0yQRkt0gi"
      },
      "execution_count": 2,
      "outputs": []
    },
    {
      "cell_type": "code",
      "source": [
        "print(\"Q\\n\", q)\n",
        "print(\"K\\n\", k)\n",
        "print(\"V\\n\", v)"
      ],
      "metadata": {
        "colab": {
          "base_uri": "https://localhost:8080/"
        },
        "id": "g1brg1qZuI0r",
        "outputId": "0f165f21-549c-41b7-e074-a3700890c46c"
      },
      "execution_count": 3,
      "outputs": [
        {
          "output_type": "stream",
          "name": "stdout",
          "text": [
            "Q\n",
            " [[0.67467034 0.63591155 0.78076355 0.37165776 0.78161471 0.18168915\n",
            "  0.34950731 0.23567877]\n",
            " [0.00204327 0.00967813 0.64272917 0.08030324 0.95089966 0.18286713\n",
            "  0.3395656  0.4158503 ]\n",
            " [0.91874613 0.94182648 0.24212919 0.42333076 0.11958887 0.58769688\n",
            "  0.44435769 0.69303875]\n",
            " [0.0274615  0.41911077 0.08907829 0.27731209 0.82840452 0.06301105\n",
            "  0.29060835 0.54452906]]\n",
            "K\n",
            " [[0.00824096 0.89800689 0.52859865 0.73435824 0.20848143 0.47535881\n",
            "  0.43258339 0.76969665]\n",
            " [0.75573269 0.69437434 0.28655571 0.51416014 0.79159488 0.77601875\n",
            "  0.23542097 0.58823663]\n",
            " [0.01199282 0.15336792 0.65555164 0.58490446 0.8130155  0.68906628\n",
            "  0.04302335 0.52869623]\n",
            " [0.27625469 0.15373122 0.473167   0.04048651 0.01877469 0.05802278\n",
            "  0.28792197 0.57754457]]\n",
            "V\n",
            " [[0.33678107 0.08635646 0.54500346 0.75331249 0.32626688 0.57976642\n",
            "  0.3635004  0.50329662]\n",
            " [0.02906135 0.71811985 0.45309515 0.50412117 0.22595773 0.77496156\n",
            "  0.25405523 0.01868846]\n",
            " [0.27280635 0.2809407  0.72823786 0.31336794 0.40083223 0.27644615\n",
            "  0.36065653 0.673537  ]\n",
            " [0.18072965 0.11387734 0.86146507 0.66461385 0.31387853 0.70213384\n",
            "  0.90747038 0.50568702]]\n"
          ]
        }
      ]
    },
    {
      "cell_type": "markdown",
      "source": [
        "**Self Attention**\n",
        "\n",
        "![Captura desde 2024-06-19 13-06-49.png](data:image/png;base64,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)\n"
      ],
      "metadata": {
        "id": "tbiKZ5aBuuNG"
      }
    },
    {
      "cell_type": "code",
      "source": [
        "np.matmul(q, k.T)"
      ],
      "metadata": {
        "colab": {
          "base_uri": "https://localhost:8080/"
        },
        "id": "3wuOfPPuvPaq",
        "outputId": "3288256e-94a2-46a8-a244-c911120e6b35"
      },
      "execution_count": 5,
      "outputs": [
        {
          "output_type": "execute_result",
          "data": {
            "text/plain": [
              "array([[1.84416529, 2.34688759, 1.73513493, 0.93058148],\n",
              "       [1.15956642, 1.45292571, 1.60339217, 0.6758255 ],\n",
              "       [2.32215392, 2.69836156, 1.44951498, 1.09484894],\n",
              "       [1.3748181 , 1.5732678 , 1.30252189, 0.54276452]])"
            ]
          },
          "metadata": {},
          "execution_count": 5
        }
      ]
    },
    {
      "cell_type": "code",
      "source": [
        "#Why we need sqrt(d_k) in denominator\n",
        "q.var(), k.var(), np.matmul(q, k.T).var()"
      ],
      "metadata": {
        "colab": {
          "base_uri": "https://localhost:8080/"
        },
        "id": "0NGbdkIUvcja",
        "outputId": "42cfe47b-dc3a-4274-af11-5b825803bb15"
      },
      "execution_count": 6,
      "outputs": [
        {
          "output_type": "execute_result",
          "data": {
            "text/plain": [
              "(0.08373109260562195, 0.07757403461815696, 0.3298491543987988)"
            ]
          },
          "metadata": {},
          "execution_count": 6
        }
      ]
    },
    {
      "cell_type": "code",
      "source": [
        "scaled = np.matmul(q, k.T)/math.sqrt(d_k)\n",
        "q.var(), k.var(), scaled.var()"
      ],
      "metadata": {
        "colab": {
          "base_uri": "https://localhost:8080/"
        },
        "id": "TP4gC8cZvw57",
        "outputId": "0c77d4b7-eddd-4f40-fa49-63875776528a"
      },
      "execution_count": 7,
      "outputs": [
        {
          "output_type": "execute_result",
          "data": {
            "text/plain": [
              "(0.08373109260562195, 0.07757403461815696, 0.04123114429984985)"
            ]
          },
          "metadata": {},
          "execution_count": 7
        }
      ]
    },
    {
      "cell_type": "code",
      "source": [
        "scaled"
      ],
      "metadata": {
        "colab": {
          "base_uri": "https://localhost:8080/"
        },
        "id": "39Zng_wkwCTI",
        "outputId": "124394c0-f6c6-4f83-8071-311803ce3ce1"
      },
      "execution_count": 8,
      "outputs": [
        {
          "output_type": "execute_result",
          "data": {
            "text/plain": [
              "array([[0.65201089, 0.82975006, 0.61346284, 0.32901024],\n",
              "       [0.40996864, 0.51368681, 0.56688474, 0.2389404 ],\n",
              "       [0.82100539, 0.95401488, 0.51248094, 0.38708755],\n",
              "       [0.4860716 , 0.55623417, 0.46051103, 0.19189624]])"
            ]
          },
          "metadata": {},
          "execution_count": 8
        }
      ]
    },
    {
      "cell_type": "markdown",
      "source": [
        "**Masking**\n",
        "\n",
        "Esto asegura que las palabras no obtenga contexto de lo generado en el futuro.\n",
        "\n",
        "No se requiere en el encoder, pero si en el decoder."
      ],
      "metadata": {
        "id": "Z-huPCDywH5F"
      }
    },
    {
      "cell_type": "code",
      "source": [
        "mask = np.tril(np.ones((L, L)))\n",
        "mask"
      ],
      "metadata": {
        "colab": {
          "base_uri": "https://localhost:8080/"
        },
        "id": "yYVWZBxXwHTo",
        "outputId": "5e330e39-d6cd-4bca-970f-37a7b32a471b"
      },
      "execution_count": 12,
      "outputs": [
        {
          "output_type": "execute_result",
          "data": {
            "text/plain": [
              "array([[1., 0., 0., 0.],\n",
              "       [1., 1., 0., 0.],\n",
              "       [1., 1., 1., 0.],\n",
              "       [1., 1., 1., 1.]])"
            ]
          },
          "metadata": {},
          "execution_count": 12
        }
      ]
    },
    {
      "cell_type": "code",
      "source": [
        "mask[mask == 0] = -np.infty\n",
        "mask[mask == 1] = 0\n",
        "mask"
      ],
      "metadata": {
        "colab": {
          "base_uri": "https://localhost:8080/"
        },
        "id": "WzAt8eEW0Fek",
        "outputId": "5e550162-3476-412f-ed0f-e529cf71d306"
      },
      "execution_count": 13,
      "outputs": [
        {
          "output_type": "execute_result",
          "data": {
            "text/plain": [
              "array([[  0., -inf, -inf, -inf],\n",
              "       [  0.,   0., -inf, -inf],\n",
              "       [  0.,   0.,   0., -inf],\n",
              "       [  0.,   0.,   0.,   0.]])"
            ]
          },
          "metadata": {},
          "execution_count": 13
        }
      ]
    },
    {
      "cell_type": "code",
      "source": [
        "scaled + mask"
      ],
      "metadata": {
        "colab": {
          "base_uri": "https://localhost:8080/"
        },
        "id": "F7YQxxfg0c5b",
        "outputId": "662a754c-8d77-48d5-f3b8-cbbd1f038798"
      },
      "execution_count": 17,
      "outputs": [
        {
          "output_type": "execute_result",
          "data": {
            "text/plain": [
              "array([[0.65201089,       -inf,       -inf,       -inf],\n",
              "       [0.40996864, 0.51368681,       -inf,       -inf],\n",
              "       [0.82100539, 0.95401488, 0.51248094,       -inf],\n",
              "       [0.4860716 , 0.55623417, 0.46051103, 0.19189624]])"
            ]
          },
          "metadata": {},
          "execution_count": 17
        }
      ]
    },
    {
      "cell_type": "markdown",
      "source": [
        "**Softmax**"
      ],
      "metadata": {
        "id": "HokbC1Aw0p7q"
      }
    },
    {
      "cell_type": "code",
      "source": [
        "def softmax(x):\n",
        "  return (np.exp(x).T / np.sum(np.exp(x), axis=-1)).T"
      ],
      "metadata": {
        "id": "o56-GWh40s-T"
      },
      "execution_count": 18,
      "outputs": []
    },
    {
      "cell_type": "code",
      "source": [
        "attention = softmax(scaled + mask)\n",
        "attention"
      ],
      "metadata": {
        "colab": {
          "base_uri": "https://localhost:8080/"
        },
        "id": "JV62jiJk09vN",
        "outputId": "c0d4b48b-ff5b-40e2-a990-76430cfd13f5"
      },
      "execution_count": 19,
      "outputs": [
        {
          "output_type": "execute_result",
          "data": {
            "text/plain": [
              "array([[1.        , 0.        , 0.        , 0.        ],\n",
              "       [0.47409368, 0.52590632, 0.        , 0.        ],\n",
              "       [0.34760956, 0.39706079, 0.25532965, 0.        ],\n",
              "       [0.26367194, 0.28283629, 0.25701774, 0.19647404]])"
            ]
          },
          "metadata": {},
          "execution_count": 19
        }
      ]
    },
    {
      "cell_type": "code",
      "source": [
        "new_v = np.matmul(attention, v)\n",
        "new_v"
      ],
      "metadata": {
        "colab": {
          "base_uri": "https://localhost:8080/"
        },
        "id": "NvKKvUiU2Luh",
        "outputId": "c120ad4d-c6df-4f76-c973-b42cca5b9fa4"
      },
      "execution_count": 20,
      "outputs": [
        {
          "output_type": "execute_result",
          "data": {
            "text/plain": [
              "array([[0.33678107, 0.08635646, 0.54500346, 0.75331249, 0.32626688,\n",
              "        0.57976642, 0.3635004 , 0.50329662],\n",
              "       [0.17494932, 0.41860482, 0.4966683 , 0.6222612 , 0.27351366,\n",
              "        0.68242078, 0.30594249, 0.24843812],\n",
              "       [0.19826299, 0.38688806, 0.55529545, 0.5420375 , 0.30547679,\n",
              "        0.5798241 , 0.31931789, 0.35434514],\n",
              "       [0.20264408, 0.32046081, 0.62827944, 0.55233161, 0.31462644,\n",
              "        0.58105802, 0.43869039, 0.4104563 ]])"
            ]
          },
          "metadata": {},
          "execution_count": 20
        }
      ]
    },
    {
      "cell_type": "code",
      "source": [
        "v"
      ],
      "metadata": {
        "colab": {
          "base_uri": "https://localhost:8080/"
        },
        "id": "eiaKmIET2az-",
        "outputId": "f231b975-5973-4216-db14-4eb18aafdf47"
      },
      "execution_count": 21,
      "outputs": [
        {
          "output_type": "execute_result",
          "data": {
            "text/plain": [
              "array([[0.33678107, 0.08635646, 0.54500346, 0.75331249, 0.32626688,\n",
              "        0.57976642, 0.3635004 , 0.50329662],\n",
              "       [0.02906135, 0.71811985, 0.45309515, 0.50412117, 0.22595773,\n",
              "        0.77496156, 0.25405523, 0.01868846],\n",
              "       [0.27280635, 0.2809407 , 0.72823786, 0.31336794, 0.40083223,\n",
              "        0.27644615, 0.36065653, 0.673537  ],\n",
              "       [0.18072965, 0.11387734, 0.86146507, 0.66461385, 0.31387853,\n",
              "        0.70213384, 0.90747038, 0.50568702]])"
            ]
          },
          "metadata": {},
          "execution_count": 21
        }
      ]
    },
    {
      "cell_type": "markdown",
      "source": [
        "**Obtenemos:**"
      ],
      "metadata": {
        "id": "ZWti2aYV2u7e"
      }
    },
    {
      "cell_type": "code",
      "source": [
        "def scaled_dot_product_attention(q, k, v, mask=None):\n",
        "  d_k = q.shape[-1]\n",
        "  scaled = np.matmul(q, k.T) / math.sqrt(d_k)\n",
        "  if mask is not None:\n",
        "    scaled = scaled + mask\n",
        "  attention = softmax(scaled)\n",
        "  out = np.matmul(attention, v)\n",
        "  return out, attention"
      ],
      "metadata": {
        "id": "mRP0UN3i2x0-"
      },
      "execution_count": 24,
      "outputs": []
    },
    {
      "cell_type": "code",
      "source": [
        "values, attention = scaled_dot_product_attention(q, k, v, mask=mask)\n",
        "print(\"Q\\n\", q)\n",
        "print(\"K\\n\", k)\n",
        "print(\"V\\n\", v)\n",
        "print(\"New V\\n\", values)\n",
        "print(\"Attention\\n\", attention)"
      ],
      "metadata": {
        "colab": {
          "base_uri": "https://localhost:8080/"
        },
        "id": "_oMv31Qi3mN-",
        "outputId": "7b2ab6d9-e52a-47ed-d544-39e6ea479a07"
      },
      "execution_count": 26,
      "outputs": [
        {
          "output_type": "stream",
          "name": "stdout",
          "text": [
            "Q\n",
            " [[0.67467034 0.63591155 0.78076355 0.37165776 0.78161471 0.18168915\n",
            "  0.34950731 0.23567877]\n",
            " [0.00204327 0.00967813 0.64272917 0.08030324 0.95089966 0.18286713\n",
            "  0.3395656  0.4158503 ]\n",
            " [0.91874613 0.94182648 0.24212919 0.42333076 0.11958887 0.58769688\n",
            "  0.44435769 0.69303875]\n",
            " [0.0274615  0.41911077 0.08907829 0.27731209 0.82840452 0.06301105\n",
            "  0.29060835 0.54452906]]\n",
            "K\n",
            " [[0.00824096 0.89800689 0.52859865 0.73435824 0.20848143 0.47535881\n",
            "  0.43258339 0.76969665]\n",
            " [0.75573269 0.69437434 0.28655571 0.51416014 0.79159488 0.77601875\n",
            "  0.23542097 0.58823663]\n",
            " [0.01199282 0.15336792 0.65555164 0.58490446 0.8130155  0.68906628\n",
            "  0.04302335 0.52869623]\n",
            " [0.27625469 0.15373122 0.473167   0.04048651 0.01877469 0.05802278\n",
            "  0.28792197 0.57754457]]\n",
            "V\n",
            " [[0.33678107 0.08635646 0.54500346 0.75331249 0.32626688 0.57976642\n",
            "  0.3635004  0.50329662]\n",
            " [0.02906135 0.71811985 0.45309515 0.50412117 0.22595773 0.77496156\n",
            "  0.25405523 0.01868846]\n",
            " [0.27280635 0.2809407  0.72823786 0.31336794 0.40083223 0.27644615\n",
            "  0.36065653 0.673537  ]\n",
            " [0.18072965 0.11387734 0.86146507 0.66461385 0.31387853 0.70213384\n",
            "  0.90747038 0.50568702]]\n",
            "New V\n",
            " [[0.33678107 0.08635646 0.54500346 0.75331249 0.32626688 0.57976642\n",
            "  0.3635004  0.50329662]\n",
            " [0.17494932 0.41860482 0.4966683  0.6222612  0.27351366 0.68242078\n",
            "  0.30594249 0.24843812]\n",
            " [0.19826299 0.38688806 0.55529545 0.5420375  0.30547679 0.5798241\n",
            "  0.31931789 0.35434514]\n",
            " [0.20264408 0.32046081 0.62827944 0.55233161 0.31462644 0.58105802\n",
            "  0.43869039 0.4104563 ]]\n",
            "Attention\n",
            " [[1.         0.         0.         0.        ]\n",
            " [0.47409368 0.52590632 0.         0.        ]\n",
            " [0.34760956 0.39706079 0.25532965 0.        ]\n",
            " [0.26367194 0.28283629 0.25701774 0.19647404]]\n"
          ]
        }
      ]
    }
  ]
}