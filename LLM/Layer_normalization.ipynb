{
  "nbformat": 4,
  "nbformat_minor": 0,
  "metadata": {
    "colab": {
      "provenance": []
    },
    "kernelspec": {
      "name": "python3",
      "display_name": "Python 3"
    },
    "language_info": {
      "name": "python"
    }
  },
  "cells": [
    {
      "cell_type": "markdown",
      "source": [
        "Layer Normalization = [x' + output]"
      ],
      "metadata": {
        "id": "2-6-VnZv6xow"
      }
    },
    {
      "cell_type": "code",
      "execution_count": 1,
      "metadata": {
        "id": "fXmgsy_25tUg"
      },
      "outputs": [],
      "source": [
        "import torch\n",
        "from torch import nn"
      ]
    },
    {
      "cell_type": "code",
      "source": [
        "inputs = torch.Tensor([[[0.2, 0.1, 0.3], [0.5, 0.1, 0.1]]])\n",
        "B, S, E = inputs.size()\n",
        "inputs = inputs.reshape(S, B, E)\n",
        "inputs.size()"
      ],
      "metadata": {
        "colab": {
          "base_uri": "https://localhost:8080/"
        },
        "id": "CVZ0JnKA8Z84",
        "outputId": "25b5462c-3f45-48f8-ab8d-13431a7daae4"
      },
      "execution_count": 2,
      "outputs": [
        {
          "output_type": "execute_result",
          "data": {
            "text/plain": [
              "torch.Size([2, 1, 3])"
            ]
          },
          "metadata": {},
          "execution_count": 2
        }
      ]
    },
    {
      "cell_type": "code",
      "source": [
        "parameter_shape = inputs.size()[-2:]\n",
        "gamma = nn.Parameter(torch.ones(parameter_shape))\n",
        "beta = nn.Parameter(torch.zeros(parameter_shape))"
      ],
      "metadata": {
        "id": "npaoEtNn86JA"
      },
      "execution_count": 3,
      "outputs": []
    },
    {
      "cell_type": "code",
      "source": [
        "gamma.size(), beta.size()"
      ],
      "metadata": {
        "colab": {
          "base_uri": "https://localhost:8080/"
        },
        "id": "5vGvayM-9OVM",
        "outputId": "c0cea489-e614-4f9d-fc2e-0aebc4deaea8"
      },
      "execution_count": 4,
      "outputs": [
        {
          "output_type": "execute_result",
          "data": {
            "text/plain": [
              "(torch.Size([1, 3]), torch.Size([1, 3]))"
            ]
          },
          "metadata": {},
          "execution_count": 4
        }
      ]
    },
    {
      "cell_type": "code",
      "source": [
        "dims = [-(i + 1) for i in range(len(parameter_shape))]"
      ],
      "metadata": {
        "id": "8A4EMM9r9SYT"
      },
      "execution_count": 5,
      "outputs": []
    },
    {
      "cell_type": "code",
      "source": [
        "dims"
      ],
      "metadata": {
        "colab": {
          "base_uri": "https://localhost:8080/"
        },
        "id": "yPJvI0wt9euP",
        "outputId": "8ea53a85-89aa-4ca9-e1ae-55430bdea820"
      },
      "execution_count": 6,
      "outputs": [
        {
          "output_type": "execute_result",
          "data": {
            "text/plain": [
              "[-1, -2]"
            ]
          },
          "metadata": {},
          "execution_count": 6
        }
      ]
    },
    {
      "cell_type": "code",
      "source": [
        "mean = inputs.mean(dim = dims, keepdim = True)\n",
        "mean.size()"
      ],
      "metadata": {
        "colab": {
          "base_uri": "https://localhost:8080/"
        },
        "id": "uZCF_lMg9x-9",
        "outputId": "a80d180a-d33b-4edb-e77c-7d15c82ab9bd"
      },
      "execution_count": 8,
      "outputs": [
        {
          "output_type": "execute_result",
          "data": {
            "text/plain": [
              "torch.Size([2, 1, 1])"
            ]
          },
          "metadata": {},
          "execution_count": 8
        }
      ]
    },
    {
      "cell_type": "code",
      "source": [
        "var = ((inputs - mean) ** 2).mean(dim=dims, keepdim=True)\n",
        "epsilon = 1e-5\n",
        "std = (var + epsilon).sqrt()\n",
        "std"
      ],
      "metadata": {
        "colab": {
          "base_uri": "https://localhost:8080/"
        },
        "id": "2D5SZ1l-94MI",
        "outputId": "da1357e3-9872-4f41-f891-e170f5a6ed2f"
      },
      "execution_count": 9,
      "outputs": [
        {
          "output_type": "execute_result",
          "data": {
            "text/plain": [
              "tensor([[[0.0817]],\n",
              "\n",
              "        [[0.1886]]])"
            ]
          },
          "metadata": {},
          "execution_count": 9
        }
      ]
    },
    {
      "cell_type": "code",
      "source": [
        "y = (inputs - mean) / std\n",
        "y"
      ],
      "metadata": {
        "colab": {
          "base_uri": "https://localhost:8080/"
        },
        "id": "qGJc70r1-W_O",
        "outputId": "5af5633c-391f-493b-ef5a-4e54e50c6b4d"
      },
      "execution_count": 10,
      "outputs": [
        {
          "output_type": "execute_result",
          "data": {
            "text/plain": [
              "tensor([[[ 0.0000, -1.2238,  1.2238]],\n",
              "\n",
              "        [[ 1.4140, -0.7070, -0.7070]]])"
            ]
          },
          "metadata": {},
          "execution_count": 10
        }
      ]
    },
    {
      "cell_type": "code",
      "source": [
        "out = gamma * y + beta"
      ],
      "metadata": {
        "id": "S7KtcSKW-lFX"
      },
      "execution_count": 11,
      "outputs": []
    },
    {
      "cell_type": "code",
      "source": [
        "out"
      ],
      "metadata": {
        "colab": {
          "base_uri": "https://localhost:8080/"
        },
        "id": "J4duec9a-pmG",
        "outputId": "38c06acf-b7f1-41c9-e9f4-693253a995a3"
      },
      "execution_count": 12,
      "outputs": [
        {
          "output_type": "execute_result",
          "data": {
            "text/plain": [
              "tensor([[[ 0.0000, -1.2238,  1.2238]],\n",
              "\n",
              "        [[ 1.4140, -0.7070, -0.7070]]], grad_fn=<AddBackward0>)"
            ]
          },
          "metadata": {},
          "execution_count": 12
        }
      ]
    },
    {
      "cell_type": "code",
      "source": [
        "class LayerNormalization():\n",
        "  def __init__(self, parameters_shape, eps=1e-5):\n",
        "    self.parameter_shape = parameter_shape\n",
        "    self.eps = eps\n",
        "    self.gamma = nn.Parameter(torch.ones(parameters_shape))\n",
        "    self.beta = nn.Parameter(torch.zeros(parameters_shape))\n",
        "\n",
        "  def forward(self, input):\n",
        "    dims = [-(i + 1) for i in range(len(self.parameter_shape))]\n",
        "    mean = inputs.mean(dim=dims, keepdim=True)\n",
        "    print(f\"Mean \\n ({mean.size()}): \\n  {mean}\")\n",
        "    var = ((input - mean) ** 2).mean(dim=dims, keepdim=True)\n",
        "    std = (var + self.eps).sqrt()\n",
        "    print(f\"Standard Deviation \\n ({std.size()}): \\n {std}\")\n",
        "    y = (inputs - mean) / std\n",
        "    print(f\"y \\n ({y.size()}): \\n {y}\")\n",
        "    out = self.gamma * y + self.beta\n",
        "    print(f\"Out \\n ({out.size()}): \\n {out}\")\n",
        "    return out"
      ],
      "metadata": {
        "id": "g5x4c44n-xFX"
      },
      "execution_count": 17,
      "outputs": []
    },
    {
      "cell_type": "code",
      "source": [
        "batch_size = 3\n",
        "sentence_length = 5\n",
        "embedding_dim = 8\n",
        "inputs = torch.randn(sentence_length, batch_size, embedding_dim)\n",
        "\n",
        "print(f\"Input \\n ({inputs.size()}): \\n {inputs}\")"
      ],
      "metadata": {
        "colab": {
          "base_uri": "https://localhost:8080/"
        },
        "id": "K3I3bhy5Al9w",
        "outputId": "9299f7ce-95f8-4948-e5b5-bf2b9a7bedba"
      },
      "execution_count": 14,
      "outputs": [
        {
          "output_type": "stream",
          "name": "stdout",
          "text": [
            "Input \n",
            " (torch.Size([5, 3, 8])): \n",
            " tensor([[[-1.3552,  0.1461,  1.1616, -0.9327,  0.1313,  0.3248,  1.1430,\n",
            "           1.0944],\n",
            "         [-2.7218, -0.3241, -0.8396, -0.6377,  1.6304,  0.1386, -1.4228,\n",
            "           0.9892],\n",
            "         [ 0.2353, -0.2593,  0.6480,  0.5153, -0.4421, -0.2659,  0.4064,\n",
            "          -1.3005]],\n",
            "\n",
            "        [[-0.9104, -0.7916,  1.0208, -0.1001, -1.8537,  0.5363, -1.6168,\n",
            "          -0.0342],\n",
            "         [ 0.8325,  0.8022, -0.4090,  0.6711, -1.8140,  0.5973, -0.2788,\n",
            "           1.0930],\n",
            "         [ 0.3963,  0.4892,  1.4349,  1.6694, -0.8572,  1.4201, -0.4561,\n",
            "          -0.7536]],\n",
            "\n",
            "        [[ 0.0875, -1.3106, -1.0665, -1.4315,  1.5776,  0.1664,  0.7757,\n",
            "          -0.0661],\n",
            "         [ 1.1323,  0.6356,  2.0684,  1.0474,  0.7554, -0.9763,  0.4924,\n",
            "          -1.1262],\n",
            "         [ 0.3728, -1.0713,  0.0627,  0.3622,  0.2820, -1.3792,  0.2210,\n",
            "          -0.9726]],\n",
            "\n",
            "        [[ 0.9175, -1.3852, -0.1717, -1.7987, -0.4800,  1.5262,  0.1802,\n",
            "          -0.1888],\n",
            "         [-0.3621, -0.5866,  0.3510,  0.0561,  0.6059,  0.4081,  1.6292,\n",
            "           0.0204],\n",
            "         [ 0.6885, -0.2633,  1.0189,  0.5619, -0.2354,  1.3422,  1.1829,\n",
            "          -0.1901]],\n",
            "\n",
            "        [[ 0.9667, -0.1613,  1.9723,  1.1385,  1.2975,  1.1312,  0.8651,\n",
            "           0.2812],\n",
            "         [ 1.2679, -1.2307,  1.7146,  0.8057,  0.3711,  0.5279,  1.1881,\n",
            "           1.5291],\n",
            "         [ 0.1964,  1.1449, -0.9693,  0.8043, -0.3642,  0.5991, -0.5013,\n",
            "           0.6351]]])\n"
          ]
        }
      ]
    },
    {
      "cell_type": "code",
      "source": [
        "layer_norm = LayerNormalization(inputs.size()[-2:])"
      ],
      "metadata": {
        "id": "7irVygxpBDtw"
      },
      "execution_count": 18,
      "outputs": []
    },
    {
      "cell_type": "code",
      "source": [
        "out = layer_norm.forward(inputs)"
      ],
      "metadata": {
        "colab": {
          "base_uri": "https://localhost:8080/"
        },
        "id": "stvM3HlEBMpo",
        "outputId": "d5761552-5af3-4704-c699-2283db6fd8f0"
      },
      "execution_count": 19,
      "outputs": [
        {
          "output_type": "stream",
          "name": "stdout",
          "text": [
            "Mean \n",
            " (torch.Size([5, 1, 1])): \n",
            "  tensor([[[-0.0807]],\n",
            "\n",
            "        [[ 0.0453]],\n",
            "\n",
            "        [[ 0.0266]],\n",
            "\n",
            "        [[ 0.2011]],\n",
            "\n",
            "        [[ 0.6337]]])\n",
            "Standard Deviation \n",
            " (torch.Size([5, 1, 1])): \n",
            " tensor([[[0.9955]],\n",
            "\n",
            "        [[1.0091]],\n",
            "\n",
            "        [[0.9685]],\n",
            "\n",
            "        [[0.8332]],\n",
            "\n",
            "        [[0.7973]]])\n",
            "y \n",
            " (torch.Size([5, 3, 8])): \n",
            " tensor([[[-1.2803e+00,  2.2785e-01,  1.2480e+00, -8.5583e-01,  2.1294e-01,\n",
            "           4.0737e-01,  1.2293e+00,  1.1805e+00],\n",
            "         [-2.6530e+00, -2.4444e-01, -7.6229e-01, -5.5947e-01,  1.7189e+00,\n",
            "           2.2028e-01, -1.3482e+00,  1.0747e+00],\n",
            "         [ 3.1748e-01, -1.7942e-01,  7.3203e-01,  5.9868e-01, -3.6301e-01,\n",
            "          -1.8606e-01,  4.8931e-01, -1.2253e+00]],\n",
            "\n",
            "        [[-9.4705e-01, -8.2934e-01,  9.6664e-01, -1.4407e-01, -1.8818e+00,\n",
            "           4.8649e-01, -1.6471e+00, -7.8757e-02],\n",
            "         [ 7.8002e-01,  7.4999e-01, -4.5020e-01,  6.2014e-01, -1.8425e+00,\n",
            "           5.4701e-01, -3.2116e-01,  1.0382e+00],\n",
            "         [ 3.4786e-01,  4.3984e-01,  1.3770e+00,  1.6093e+00, -8.9430e-01,\n",
            "           1.3623e+00, -4.9690e-01, -7.9165e-01]],\n",
            "\n",
            "        [[ 6.2803e-02, -1.3807e+00, -1.1287e+00, -1.5056e+00,  1.6014e+00,\n",
            "           1.4430e-01,  7.7345e-01, -9.5741e-02],\n",
            "         [ 1.1416e+00,  6.2877e-01,  2.1081e+00,  1.0540e+00,  7.5250e-01,\n",
            "          -1.0355e+00,  4.8092e-01, -1.1903e+00],\n",
            "         [ 3.5746e-01, -1.1337e+00,  3.7198e-02,  3.4648e-01,  2.6366e-01,\n",
            "          -1.4516e+00,  2.0067e-01, -1.0317e+00]],\n",
            "\n",
            "        [[ 8.5980e-01, -1.9039e+00, -4.4742e-01, -2.4001e+00, -8.1749e-01,\n",
            "           1.5903e+00, -2.5168e-02, -4.6797e-01],\n",
            "         [-6.7597e-01, -9.4536e-01,  1.7989e-01, -1.7410e-01,  4.8575e-01,\n",
            "           2.4843e-01,  1.7140e+00, -2.1689e-01],\n",
            "         [ 5.8488e-01, -5.5743e-01,  9.8144e-01,  4.3300e-01, -5.2393e-01,\n",
            "           1.3694e+00,  1.1783e+00, -4.6950e-01]],\n",
            "\n",
            "        [[ 4.1763e-01, -9.9713e-01,  1.6788e+00,  6.3301e-01,  8.3251e-01,\n",
            "           6.2392e-01,  2.9011e-01, -4.4217e-01],\n",
            "         [ 7.9533e-01, -2.3384e+00,  1.3556e+00,  2.1571e-01, -3.2939e-01,\n",
            "          -1.3281e-01,  6.9526e-01,  1.1229e+00],\n",
            "         [-5.4852e-01,  6.4107e-01, -2.0105e+00,  2.1390e-01, -1.2516e+00,\n",
            "          -4.3496e-02, -1.4235e+00,  1.7534e-03]]])\n",
            "Out \n",
            " (torch.Size([5, 3, 8])): \n",
            " tensor([[[-1.2803e+00,  2.2785e-01,  1.2480e+00, -8.5583e-01,  2.1294e-01,\n",
            "           4.0737e-01,  1.2293e+00,  1.1805e+00],\n",
            "         [-2.6530e+00, -2.4444e-01, -7.6229e-01, -5.5947e-01,  1.7189e+00,\n",
            "           2.2028e-01, -1.3482e+00,  1.0747e+00],\n",
            "         [ 3.1748e-01, -1.7942e-01,  7.3203e-01,  5.9868e-01, -3.6301e-01,\n",
            "          -1.8606e-01,  4.8931e-01, -1.2253e+00]],\n",
            "\n",
            "        [[-9.4705e-01, -8.2934e-01,  9.6664e-01, -1.4407e-01, -1.8818e+00,\n",
            "           4.8649e-01, -1.6471e+00, -7.8757e-02],\n",
            "         [ 7.8002e-01,  7.4999e-01, -4.5020e-01,  6.2014e-01, -1.8425e+00,\n",
            "           5.4701e-01, -3.2116e-01,  1.0382e+00],\n",
            "         [ 3.4786e-01,  4.3984e-01,  1.3770e+00,  1.6093e+00, -8.9430e-01,\n",
            "           1.3623e+00, -4.9690e-01, -7.9165e-01]],\n",
            "\n",
            "        [[ 6.2803e-02, -1.3807e+00, -1.1287e+00, -1.5056e+00,  1.6014e+00,\n",
            "           1.4430e-01,  7.7345e-01, -9.5741e-02],\n",
            "         [ 1.1416e+00,  6.2877e-01,  2.1081e+00,  1.0540e+00,  7.5250e-01,\n",
            "          -1.0355e+00,  4.8092e-01, -1.1903e+00],\n",
            "         [ 3.5746e-01, -1.1337e+00,  3.7198e-02,  3.4648e-01,  2.6366e-01,\n",
            "          -1.4516e+00,  2.0067e-01, -1.0317e+00]],\n",
            "\n",
            "        [[ 8.5980e-01, -1.9039e+00, -4.4742e-01, -2.4001e+00, -8.1749e-01,\n",
            "           1.5903e+00, -2.5168e-02, -4.6797e-01],\n",
            "         [-6.7597e-01, -9.4536e-01,  1.7989e-01, -1.7410e-01,  4.8575e-01,\n",
            "           2.4843e-01,  1.7140e+00, -2.1689e-01],\n",
            "         [ 5.8488e-01, -5.5743e-01,  9.8144e-01,  4.3300e-01, -5.2393e-01,\n",
            "           1.3694e+00,  1.1783e+00, -4.6950e-01]],\n",
            "\n",
            "        [[ 4.1763e-01, -9.9713e-01,  1.6788e+00,  6.3301e-01,  8.3251e-01,\n",
            "           6.2392e-01,  2.9011e-01, -4.4217e-01],\n",
            "         [ 7.9533e-01, -2.3384e+00,  1.3556e+00,  2.1571e-01, -3.2939e-01,\n",
            "          -1.3281e-01,  6.9526e-01,  1.1229e+00],\n",
            "         [-5.4852e-01,  6.4107e-01, -2.0105e+00,  2.1390e-01, -1.2516e+00,\n",
            "          -4.3496e-02, -1.4235e+00,  1.7534e-03]]], grad_fn=<AddBackward0>)\n"
          ]
        }
      ]
    },
    {
      "cell_type": "code",
      "source": [],
      "metadata": {
        "id": "2wKCke04BdQr"
      },
      "execution_count": null,
      "outputs": []
    }
  ]
}